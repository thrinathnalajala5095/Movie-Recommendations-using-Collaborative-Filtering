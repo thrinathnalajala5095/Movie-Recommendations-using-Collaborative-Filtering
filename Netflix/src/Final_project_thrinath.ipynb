{
 "cells": [
  {
   "cell_type": "markdown",
   "metadata": {},
   "source": [
    "# Analyzing the Netflix Data"
   ]
  },
  {
   "cell_type": "code",
   "execution_count": 1,
   "metadata": {},
   "outputs": [],
   "source": [
    "import os\n",
    "import numpy as np\n",
    "import pandas as pd\n",
    "\n",
    "#location of data files\n",
    "dbfs_dir = 's3://thrinathfinalp/'\n",
    "movieTitles_filename = dbfs_dir + 'movie_titles.txt'\n",
    "trainingRatings_filename = dbfs_dir + 'TrainingRatings.txt'\n",
    "testingRatings_filename = dbfs_dir + 'TestingRatings.txt'"
   ]
  },
  {
   "cell_type": "code",
   "execution_count": 2,
   "metadata": {},
   "outputs": [],
   "source": [
    "#define the schemas\n",
    "\n",
    "from pyspark.sql.types import *\n",
    "\n",
    "movieTitles_df_schema = StructType(\n",
    "  [StructField('ID', IntegerType()),\n",
    "   StructField('Release_Year', DateType()),\n",
    "   StructField('title', StringType())]\n",
    ")\n",
    "\n",
    "trainingRatings_df_schema = StructType(\n",
    "  [StructField('movieId', IntegerType()),\n",
    "   StructField('userId', IntegerType()),\n",
    "   StructField('rating', DoubleType())]\n",
    ")\n",
    "\n",
    "testingRatings_df_schema = StructType(\n",
    "  [StructField('movieId', IntegerType()),\n",
    "   StructField('userId', IntegerType()),\n",
    "   StructField('rating', DoubleType())]\n",
    ")"
   ]
  },
  {
   "cell_type": "code",
   "execution_count": 3,
   "metadata": {},
   "outputs": [
    {
     "name": "stderr",
     "output_type": "stream",
     "text": [
      "                                                                                \r"
     ]
    },
    {
     "name": "stdout",
     "output_type": "stream",
     "text": [
      "There are 17769 movies and 3255351 Training_ratings and 100477 Testing_ratings rows in the datasets\n",
      "Movies:\n",
      "+---+----------------------------+\n",
      "|ID |title                       |\n",
      "+---+----------------------------+\n",
      "|2  |Isle of Man TT 2004 Review  |\n",
      "|3  |Character                   |\n",
      "|4  |Paula Abdul's Get Up & Dance|\n",
      "+---+----------------------------+\n",
      "only showing top 3 rows\n",
      "\n",
      "Training_Ratings:\n",
      "+-------+-------+------+\n",
      "|movieId|userId |rating|\n",
      "+-------+-------+------+\n",
      "|8      |1395430|2.0   |\n",
      "|8      |1205593|4.0   |\n",
      "|8      |1488844|4.0   |\n",
      "+-------+-------+------+\n",
      "only showing top 3 rows\n",
      "\n",
      "Testing_Ratings:\n",
      "+-------+-------+------+\n",
      "|movieId|userId |rating|\n",
      "+-------+-------+------+\n",
      "|8      |2149668|3.0   |\n",
      "|8      |1089184|3.0   |\n",
      "|8      |2465894|3.0   |\n",
      "+-------+-------+------+\n",
      "only showing top 3 rows\n",
      "\n"
     ]
    }
   ],
   "source": [
    "from pyspark.sql.functions import regexp_extract\n",
    "from pyspark.sql.types import *\n",
    "\n",
    "raw_movieTitles_df = sqlContext.read.format('csv').options(header=True, inferSchema=False).schema(movieTitles_df_schema).load(movieTitles_filename)\n",
    "movieTitles_df = raw_movieTitles_df.drop('Release_Year')\n",
    "\n",
    "trainingRatings_df = sqlContext.read.format('csv').options(header=True, inferSchema=False).schema(trainingRatings_df_schema).load(trainingRatings_filename)\n",
    "\n",
    "testingRatings_df = sqlContext.read.format('csv').options(header=True, inferSchema=False).schema(testingRatings_df_schema).load(testingRatings_filename)\n",
    "\n",
    "movieTitles_df.cache()\n",
    "trainingRatings_df.cache()\n",
    "testingRatings_df.cache()\n",
    "\n",
    "movies_count = movieTitles_df.count()\n",
    "trainingRatings_count = trainingRatings_df.count()\n",
    "testingRatings_count = testingRatings_df.count()\n",
    "\n",
    "assert movieTitles_df.is_cached\n",
    "assert trainingRatings_df.is_cached\n",
    "assert testingRatings_df.is_cached\n",
    "\n",
    "print ('There are %s movies and %s Training_ratings and %s Testing_ratings rows in the datasets' % (movies_count, trainingRatings_count, testingRatings_count))\n",
    "\n",
    "print ('Movies:')\n",
    "movieTitles_df.show(3, truncate=False)\n",
    "\n",
    "print ('Training_Ratings:')\n",
    "trainingRatings_df.show(3, truncate=False)\n",
    "\n",
    "print ('Testing_Ratings:')\n",
    "testingRatings_df.show(3, truncate=False)"
   ]
  },
  {
   "cell_type": "markdown",
   "metadata": {},
   "source": [
    "# Distinct Movies and  distinct Users in the  Training set (TrainingRatings.txt) and Testing set (TestingRatings.txt)"
   ]
  },
  {
   "cell_type": "code",
   "execution_count": 4,
   "metadata": {},
   "outputs": [
    {
     "name": "stderr",
     "output_type": "stream",
     "text": [
      "21/12/15 21:52:42 WARN Utils: Truncated the string representation of a plan since it was too large. This behavior can be adjusted by setting 'spark.debug.maxToStringFields' in SparkEnv.conf.\n"
     ]
    },
    {
     "name": "stdout",
     "output_type": "stream",
     "text": [
      "There are 17769 distinct_movies in Movie Titles dataset: \n"
     ]
    },
    {
     "name": "stderr",
     "output_type": "stream",
     "text": [
      "                                                                                \r"
     ]
    },
    {
     "name": "stdout",
     "output_type": "stream",
     "text": [
      "There are 1821 distinct_movies and 27555 distinct_Users and 5 distinct_Ratings in the Training dataset\n",
      "There are 1701 distinct_movies and 27555 distinct_Users and 5 distinct_Ratings in the Testing dataset\n"
     ]
    }
   ],
   "source": [
    "# getting the  movie count as unique to plot\n",
    "movie_Unique_count = movieTitles_df.select(\"ID\").distinct().count()\n",
    "print(\"There are %s distinct_movies in Movie Titles dataset: \"% (movie_Unique_count))\n",
    "\n",
    "tr_movie_Unique_count = trainingRatings_df.select(\"movieId\").distinct().count()\n",
    "tr_user_Unique_count = testingRatings_df.select(\"userId\").distinct().count()\n",
    "tr_rating_Unique_count = testingRatings_df.select(\"rating\").distinct().count()\n",
    "print ('There are %s distinct_movies and %s distinct_Users and %s distinct_Ratings in the Training dataset' % (tr_movie_Unique_count, tr_user_Unique_count, tr_rating_Unique_count))\n",
    "\n",
    "ts_movie_Unique_count = testingRatings_df.select(\"movieId\").distinct().count()\n",
    "ts_user_Unique_count = testingRatings_df.select(\"userId\").distinct().count()\n",
    "ts_rating_Unique_count = testingRatings_df.select(\"rating\").distinct().count()\n",
    "print ('There are %s distinct_movies and %s distinct_Users and %s distinct_Ratings in the Testing dataset' % (ts_movie_Unique_count, ts_user_Unique_count, ts_rating_Unique_count))\n"
   ]
  },
  {
   "cell_type": "code",
   "execution_count": 5,
   "metadata": {},
   "outputs": [],
   "source": [
    "#pip install seaborn"
   ]
  },
  {
   "cell_type": "code",
   "execution_count": 6,
   "metadata": {},
   "outputs": [
    {
     "name": "stderr",
     "output_type": "stream",
     "text": [
      "[Stage 57:==============================================>       (174 + 8) / 200]"
     ]
    },
    {
     "name": "stdout",
     "output_type": "stream",
     "text": [
      "+------+------------------+\n",
      "|userId|       mean_Rating|\n",
      "+------+------------------+\n",
      "|     7|3.9038461538461537|\n",
      "|    79| 3.630952380952381|\n",
      "|   199| 3.943661971830986|\n",
      "|   481| 4.351351351351352|\n",
      "|   769| 3.193877551020408|\n",
      "|   906|3.8333333333333335|\n",
      "|  1310|3.4743589743589745|\n",
      "|  1333|2.6734006734006734|\n",
      "|  1427|3.5616438356164384|\n",
      "|  1442| 4.362068965517241|\n",
      "|  1457|3.5764705882352943|\n",
      "|  1500|3.7111111111111112|\n",
      "|  1527|3.6666666666666665|\n",
      "|  1918|2.9220779220779223|\n",
      "|  2000|3.6991150442477876|\n",
      "|  2128|3.5294117647058822|\n",
      "|  2213|3.9206349206349205|\n",
      "|  2225|3.3563218390804597|\n",
      "|  2307|3.7466666666666666|\n",
      "|  2455| 3.409448818897638|\n",
      "+------+------------------+\n",
      "only showing top 20 rows\n",
      "\n"
     ]
    },
    {
     "name": "stderr",
     "output_type": "stream",
     "text": [
      "                                                                                \r"
     ]
    }
   ],
   "source": [
    "import pyspark.sql.functions as F\n",
    "user_avg = trainingRatings_df.groupby('userId')\\\n",
    "             .agg(F.avg('rating').alias('mean_Rating'))\\\n",
    "             .orderBy(F.col('userId')).cache()\n",
    "user_avg.show()"
   ]
  },
  {
   "cell_type": "code",
   "execution_count": 7,
   "metadata": {},
   "outputs": [
    {
     "name": "stderr",
     "output_type": "stream",
     "text": [
      "[Stage 61:===============================================>      (175 + 8) / 200]"
     ]
    },
    {
     "name": "stdout",
     "output_type": "stream",
     "text": [
      "+-------+-------------------+\n",
      "|summary|        mean_Rating|\n",
      "+-------+-------------------+\n",
      "|  count|              28978|\n",
      "|   mean| 3.5160354185440443|\n",
      "| stddev|0.43468236507005115|\n",
      "|    min|                1.0|\n",
      "|    max|                5.0|\n",
      "+-------+-------------------+\n",
      "\n"
     ]
    },
    {
     "name": "stderr",
     "output_type": "stream",
     "text": [
      "                                                                                \r"
     ]
    }
   ],
   "source": [
    "user_avg.describe('mean_Rating').show()"
   ]
  },
  {
   "cell_type": "code",
   "execution_count": 8,
   "metadata": {},
   "outputs": [
    {
     "name": "stderr",
     "output_type": "stream",
     "text": [
      "[Stage 69:========================================>             (151 + 8) / 200]"
     ]
    },
    {
     "name": "stdout",
     "output_type": "stream",
     "text": [
      "+-------+------------------+\n",
      "|movieId|       mean_Rating|\n",
      "+-------+------------------+\n",
      "|      8|3.0558303886925797|\n",
      "|     28| 3.760127409343352|\n",
      "|     43| 2.310344827586207|\n",
      "|     48|3.6206482593037217|\n",
      "|     61|2.3859649122807016|\n",
      "|     64| 2.466666666666667|\n",
      "|     66|2.1384615384615384|\n",
      "|     92|  3.08955223880597|\n",
      "|     96|3.0136986301369864|\n",
      "|    111|3.0373038930854155|\n",
      "|    122|2.9027291812456264|\n",
      "|    123|2.7641509433962264|\n",
      "|    127| 2.626614261650758|\n",
      "|    140|2.3902439024390243|\n",
      "|    145|  2.99290780141844|\n",
      "|    154|2.7586206896551726|\n",
      "|    156| 3.354724757138652|\n",
      "|    174| 2.899159663865546|\n",
      "|    185| 2.976499690785405|\n",
      "|    192|               3.0|\n",
      "+-------+------------------+\n",
      "only showing top 20 rows\n",
      "\n"
     ]
    },
    {
     "name": "stderr",
     "output_type": "stream",
     "text": [
      "                                                                                \r"
     ]
    }
   ],
   "source": [
    "import pyspark.sql.functions as F\n",
    "item_avg = trainingRatings_df.groupby('movieId')\\\n",
    "             .agg(F.avg('rating').alias('mean_Rating'))\\\n",
    "             .orderBy(F.col('movieId')).cache()\n",
    "item_avg.show()"
   ]
  },
  {
   "cell_type": "code",
   "execution_count": 9,
   "metadata": {},
   "outputs": [
    {
     "name": "stdout",
     "output_type": "stream",
     "text": [
      "+-------+------------------+\n",
      "|summary|       mean_Rating|\n",
      "+-------+------------------+\n",
      "|  count|              1821|\n",
      "|   mean|  3.05814236365502|\n",
      "| stddev|0.5390238424652063|\n",
      "|    min|1.4672897196261683|\n",
      "|    max|               4.5|\n",
      "+-------+------------------+\n",
      "\n"
     ]
    }
   ],
   "source": [
    "item_avg.describe('mean_Rating').show()"
   ]
  },
  {
   "cell_type": "code",
   "execution_count": 10,
   "metadata": {},
   "outputs": [
    {
     "name": "stdout",
     "output_type": "stream",
     "text": [
      "Training_PandasDF\n"
     ]
    },
    {
     "data": {
      "text/html": [
       "<div>\n",
       "<style scoped>\n",
       "    .dataframe tbody tr th:only-of-type {\n",
       "        vertical-align: middle;\n",
       "    }\n",
       "\n",
       "    .dataframe tbody tr th {\n",
       "        vertical-align: top;\n",
       "    }\n",
       "\n",
       "    .dataframe thead th {\n",
       "        text-align: right;\n",
       "    }\n",
       "</style>\n",
       "<table border=\"1\" class=\"dataframe\">\n",
       "  <thead>\n",
       "    <tr style=\"text-align: right;\">\n",
       "      <th></th>\n",
       "      <th>movieId</th>\n",
       "      <th>userId</th>\n",
       "      <th>rating</th>\n",
       "    </tr>\n",
       "  </thead>\n",
       "  <tbody>\n",
       "    <tr>\n",
       "      <th>0</th>\n",
       "      <td>8</td>\n",
       "      <td>1395430</td>\n",
       "      <td>2.0</td>\n",
       "    </tr>\n",
       "    <tr>\n",
       "      <th>1</th>\n",
       "      <td>8</td>\n",
       "      <td>1205593</td>\n",
       "      <td>4.0</td>\n",
       "    </tr>\n",
       "    <tr>\n",
       "      <th>2</th>\n",
       "      <td>8</td>\n",
       "      <td>1488844</td>\n",
       "      <td>4.0</td>\n",
       "    </tr>\n",
       "  </tbody>\n",
       "</table>\n",
       "</div>"
      ],
      "text/plain": [
       "   movieId   userId  rating\n",
       "0        8  1395430     2.0\n",
       "1        8  1205593     4.0\n",
       "2        8  1488844     4.0"
      ]
     },
     "execution_count": 10,
     "metadata": {},
     "output_type": "execute_result"
    }
   ],
   "source": [
    "pandas_tr_df = trainingRatings_df.toPandas()\n",
    "print(\"Training_PandasDF\")\n",
    "pandas_tr_df.head(3)"
   ]
  },
  {
   "cell_type": "code",
   "execution_count": 11,
   "metadata": {},
   "outputs": [
    {
     "name": "stdout",
     "output_type": "stream",
     "text": [
      "Testing_PandasDF\n"
     ]
    },
    {
     "data": {
      "text/html": [
       "<div>\n",
       "<style scoped>\n",
       "    .dataframe tbody tr th:only-of-type {\n",
       "        vertical-align: middle;\n",
       "    }\n",
       "\n",
       "    .dataframe tbody tr th {\n",
       "        vertical-align: top;\n",
       "    }\n",
       "\n",
       "    .dataframe thead th {\n",
       "        text-align: right;\n",
       "    }\n",
       "</style>\n",
       "<table border=\"1\" class=\"dataframe\">\n",
       "  <thead>\n",
       "    <tr style=\"text-align: right;\">\n",
       "      <th></th>\n",
       "      <th>movieId</th>\n",
       "      <th>userId</th>\n",
       "      <th>rating</th>\n",
       "    </tr>\n",
       "  </thead>\n",
       "  <tbody>\n",
       "    <tr>\n",
       "      <th>0</th>\n",
       "      <td>8</td>\n",
       "      <td>2149668</td>\n",
       "      <td>3.0</td>\n",
       "    </tr>\n",
       "    <tr>\n",
       "      <th>1</th>\n",
       "      <td>8</td>\n",
       "      <td>1089184</td>\n",
       "      <td>3.0</td>\n",
       "    </tr>\n",
       "    <tr>\n",
       "      <th>2</th>\n",
       "      <td>8</td>\n",
       "      <td>2465894</td>\n",
       "      <td>3.0</td>\n",
       "    </tr>\n",
       "  </tbody>\n",
       "</table>\n",
       "</div>"
      ],
      "text/plain": [
       "   movieId   userId  rating\n",
       "0        8  2149668     3.0\n",
       "1        8  1089184     3.0\n",
       "2        8  2465894     3.0"
      ]
     },
     "execution_count": 11,
     "metadata": {},
     "output_type": "execute_result"
    }
   ],
   "source": [
    "pandas_ts_df = testingRatings_df.toPandas()\n",
    "print(\"Testing_PandasDF\")\n",
    "pandas_ts_df.head(3)"
   ]
  },
  {
   "cell_type": "code",
   "execution_count": 12,
   "metadata": {},
   "outputs": [
    {
     "data": {
      "text/html": [
       "<div>\n",
       "<style scoped>\n",
       "    .dataframe tbody tr th:only-of-type {\n",
       "        vertical-align: middle;\n",
       "    }\n",
       "\n",
       "    .dataframe tbody tr th {\n",
       "        vertical-align: top;\n",
       "    }\n",
       "\n",
       "    .dataframe thead th {\n",
       "        text-align: right;\n",
       "    }\n",
       "</style>\n",
       "<table border=\"1\" class=\"dataframe\">\n",
       "  <thead>\n",
       "    <tr style=\"text-align: right;\">\n",
       "      <th></th>\n",
       "      <th>movieId</th>\n",
       "      <th>userIdCount</th>\n",
       "    </tr>\n",
       "  </thead>\n",
       "  <tbody>\n",
       "    <tr>\n",
       "      <th>0</th>\n",
       "      <td>6971</td>\n",
       "      <td>811</td>\n",
       "    </tr>\n",
       "    <tr>\n",
       "      <th>1</th>\n",
       "      <td>4640</td>\n",
       "      <td>756</td>\n",
       "    </tr>\n",
       "    <tr>\n",
       "      <th>2</th>\n",
       "      <td>6287</td>\n",
       "      <td>737</td>\n",
       "    </tr>\n",
       "    <tr>\n",
       "      <th>3</th>\n",
       "      <td>9728</td>\n",
       "      <td>706</td>\n",
       "    </tr>\n",
       "    <tr>\n",
       "      <th>4</th>\n",
       "      <td>8915</td>\n",
       "      <td>695</td>\n",
       "    </tr>\n",
       "  </tbody>\n",
       "</table>\n",
       "</div>"
      ],
      "text/plain": [
       "   movieId  userIdCount\n",
       "0     6971          811\n",
       "1     4640          756\n",
       "2     6287          737\n",
       "3     9728          706\n",
       "4     8915          695"
      ]
     },
     "execution_count": 12,
     "metadata": {},
     "output_type": "execute_result"
    }
   ],
   "source": [
    "pandas_ts_df.groupby('movieId')['userId'].count().sort_values(ascending=False).reset_index(name='userIdCount').head()"
   ]
  },
  {
   "cell_type": "code",
   "execution_count": 13,
   "metadata": {},
   "outputs": [
    {
     "data": {
      "text/html": [
       "<div>\n",
       "<style scoped>\n",
       "    .dataframe tbody tr th:only-of-type {\n",
       "        vertical-align: middle;\n",
       "    }\n",
       "\n",
       "    .dataframe tbody tr th {\n",
       "        vertical-align: top;\n",
       "    }\n",
       "\n",
       "    .dataframe thead th {\n",
       "        text-align: right;\n",
       "    }\n",
       "</style>\n",
       "<table border=\"1\" class=\"dataframe\">\n",
       "  <thead>\n",
       "    <tr style=\"text-align: right;\">\n",
       "      <th></th>\n",
       "      <th>userId</th>\n",
       "      <th>movieId_Count</th>\n",
       "    </tr>\n",
       "  </thead>\n",
       "  <tbody>\n",
       "    <tr>\n",
       "      <th>0</th>\n",
       "      <td>202623</td>\n",
       "      <td>68</td>\n",
       "    </tr>\n",
       "    <tr>\n",
       "      <th>1</th>\n",
       "      <td>2474140</td>\n",
       "      <td>69</td>\n",
       "    </tr>\n",
       "    <tr>\n",
       "      <th>2</th>\n",
       "      <td>1665014</td>\n",
       "      <td>69</td>\n",
       "    </tr>\n",
       "    <tr>\n",
       "      <th>3</th>\n",
       "      <td>1405451</td>\n",
       "      <td>69</td>\n",
       "    </tr>\n",
       "    <tr>\n",
       "      <th>4</th>\n",
       "      <td>693787</td>\n",
       "      <td>69</td>\n",
       "    </tr>\n",
       "  </tbody>\n",
       "</table>\n",
       "</div>"
      ],
      "text/plain": [
       "    userId  movieId_Count\n",
       "0   202623             68\n",
       "1  2474140             69\n",
       "2  1665014             69\n",
       "3  1405451             69\n",
       "4   693787             69"
      ]
     },
     "execution_count": 13,
     "metadata": {},
     "output_type": "execute_result"
    }
   ],
   "source": [
    "pandas_tr_df.groupby('userId')['movieId'].count().sort_values().reset_index(name='movieId_Count').head()"
   ]
  },
  {
   "cell_type": "code",
   "execution_count": 14,
   "metadata": {},
   "outputs": [
    {
     "data": {
      "text/plain": [
       "Text(0, 0.5, 'RatingCount')"
      ]
     },
     "execution_count": 14,
     "metadata": {},
     "output_type": "execute_result"
    },
    {
     "data": {
      "image/png": "[encoded data removed]",
      "text/plain": [
       "<Figure size 432x288 with 1 Axes>"
      ]
     },
     "metadata": {},
     "output_type": "display_data"
    }
   ],
   "source": [
    "import seaborn as sns\n",
    "sns.set_theme(style=\"darkgrid\")\n",
    "ax = sns.countplot(x=\"rating\", data=pandas_tr_df)\n",
    "ax.set_title('Rating Distribution of Training Data')\n",
    "ax.set_ylabel('RatingCount')"
   ]
  },
  {
   "cell_type": "code",
   "execution_count": 15,
   "metadata": {},
   "outputs": [
    {
     "data": {
      "text/plain": [
       "Text(0, 0.5, 'RatingCount')"
      ]
     },
     "execution_count": 15,
     "metadata": {},
     "output_type": "execute_result"
    },
    {
     "data": {
      "image/png": "[encoded data removed]",
      "text/plain": [
       "<Figure size 432x288 with 1 Axes>"
      ]
     },
     "metadata": {},
     "output_type": "display_data"
    }
   ],
   "source": [
    "sns.set_theme(style=\"darkgrid\")\n",
    "ax = sns.countplot(x=\"rating\", data=pandas_ts_df)\n",
    "ax.set_title('Rating Distribution of Testing Data')\n",
    "ax.set_ylabel('RatingCount')"
   ]
  },
  {
   "cell_type": "code",
   "execution_count": 16,
   "metadata": {},
   "outputs": [
    {
     "data": {
      "text/plain": [
       "count    3.255351e+06\n",
       "mean     3.481188e+00\n",
       "std      1.082873e+00\n",
       "min      1.000000e+00\n",
       "25%      3.000000e+00\n",
       "50%      4.000000e+00\n",
       "75%      4.000000e+00\n",
       "max      5.000000e+00\n",
       "Name: rating, dtype: float64"
      ]
     },
     "execution_count": 16,
     "metadata": {},
     "output_type": "execute_result"
    }
   ],
   "source": [
    "pandas_tr_df['rating'].describe()"
   ]
  },
  {
   "cell_type": "code",
   "execution_count": 17,
   "metadata": {},
   "outputs": [
    {
     "data": {
      "text/plain": [
       "count    100477.000000\n",
       "mean          3.479483\n",
       "std           1.085257\n",
       "min           1.000000\n",
       "25%           3.000000\n",
       "50%           4.000000\n",
       "75%           4.000000\n",
       "max           5.000000\n",
       "Name: rating, dtype: float64"
      ]
     },
     "execution_count": 17,
     "metadata": {},
     "output_type": "execute_result"
    }
   ],
   "source": [
    "pandas_ts_df['rating'].describe()"
   ]
  },
  {
   "cell_type": "code",
   "execution_count": 18,
   "metadata": {},
   "outputs": [
    {
     "name": "stdout",
     "output_type": "stream",
     "text": [
      "+-------+-----+\n",
      "|userId |count|\n",
      "+-------+-----+\n",
      "|1922286|69   |\n",
      "|1382057|69   |\n",
      "|1714390|69   |\n",
      "|202623 |68   |\n",
      "|2508962|69   |\n",
      "|1893836|69   |\n",
      "|2474140|69   |\n",
      "|1569522|69   |\n",
      "|886158 |69   |\n",
      "|693787 |69   |\n",
      "|2596719|69   |\n",
      "|731941 |69   |\n",
      "|1583736|69   |\n",
      "|2638916|69   |\n",
      "|2021184|69   |\n",
      "|1665014|69   |\n",
      "|482107 |69   |\n",
      "|2220157|69   |\n",
      "|205302 |69   |\n",
      "|65076  |69   |\n",
      "|1260877|69   |\n",
      "|1405451|69   |\n",
      "|615780 |69   |\n",
      "|2364883|69   |\n",
      "|822391 |69   |\n",
      "+-------+-----+\n",
      "\n"
     ]
    }
   ],
   "source": [
    "from pyspark.sql import functions as F\n",
    "trainingRatings_df.groupBy(\"userId\").count().filter(\"count < 70\").show(25, truncate = False)\n",
    "#Get MOvieIds and Ratings in training dataset for the given test user 202623\n",
    "#trainingRatings_df[trainingRatings_df.userId.isin(\"202623\")].collect()"
   ]
  },
  {
   "cell_type": "code",
   "execution_count": 20,
   "metadata": {},
   "outputs": [
    {
     "name": "stdout",
     "output_type": "stream",
     "text": [
      "+-------+-------+------+\n",
      "|movieId| userId|rating|\n",
      "+-------+-------+------+\n",
      "|      8|1395430|   2.0|\n",
      "|      8|1205593|   4.0|\n",
      "|      8|1488844|   4.0|\n",
      "+-------+-------+------+\n",
      "only showing top 3 rows\n",
      "\n",
      "+-------+-------+------+\n",
      "|movieId| userId|rating|\n",
      "+-------+-------+------+\n",
      "|      8|2149668|   3.0|\n",
      "|      8|1089184|   3.0|\n",
      "|      8|2465894|   3.0|\n",
      "+-------+-------+------+\n",
      "only showing top 3 rows\n",
      "\n"
     ]
    },
    {
     "data": {
      "text/plain": [
       "\"\\nseed = 1800009193\\n(split_60_df, split_a_20_df, split_b_20_df) = trainingRatings_df.randomSplit([6.0, 2.0, 2.0], seed)\\n\\n# Let's cache these datasets for performance\\ntraining_df = split_60_df.cache()\\nvalidation_df = split_a_20_df.cache()\\ntest_df = split_b_20_df.cache()\\n\\nprint('Training: {0}, validation: {1}, test: {2}\\n'.format(\\n  training_df.count(), validation_df.count(), test_df.count())\\n)\\ntraining_df.show(3)\\nvalidation_df.show(3)\\ntest_df.show(3)\\n\""
      ]
     },
     "execution_count": 20,
     "metadata": {},
     "output_type": "execute_result"
    }
   ],
   "source": [
    "# We'll hold out 60% for training, 20% of our data for validation, and leave 20% for testing\n",
    "#since we have training and testing datasets separately, I am not going to split the dataset\n",
    "\n",
    "trainingRatings_df.show(3)\n",
    "testingRatings_df.show(3)\n",
    "\n",
    "\"\"\"\n",
    "seed = 1800009193\n",
    "(split_60_df, split_a_20_df, split_b_20_df) = trainingRatings_df.randomSplit([6.0, 2.0, 2.0], seed)\n",
    "\n",
    "# Let's cache these datasets for performance\n",
    "training_df = split_60_df.cache()\n",
    "validation_df = split_a_20_df.cache()\n",
    "test_df = split_b_20_df.cache()\n",
    "\n",
    "print('Training: {0}, validation: {1}, test: {2}\\n'.format(\n",
    "  training_df.count(), validation_df.count(), test_df.count())\n",
    ")\n",
    "training_df.show(3)\n",
    "validation_df.show(3)\n",
    "test_df.show(3)\n",
    "\"\"\""
   ]
  },
  {
   "cell_type": "code",
   "execution_count": 20,
   "metadata": {},
   "outputs": [],
   "source": [
    "from surprise import KNNBasic\n",
    "from surprise.model_selection import cross_validate\n",
    "from surprise import Dataset\n",
    "from surprise import Reader"
   ]
  },
  {
   "cell_type": "code",
   "execution_count": 21,
   "metadata": {},
   "outputs": [
    {
     "name": "stdout",
     "output_type": "stream",
     "text": [
      "Training: 1954026, validation: 651086, test: 650239\n",
      "\n"
     ]
    }
   ],
   "source": [
    "#taking more time to execute for Training Dataset so given splitted validation data as input\n",
    "seed = 1800009193\n",
    "(split_60_df, split_a_20_df, split_b_20_df) = trainingRatings_df.randomSplit([6.0, 2.0, 2.0], seed)\n",
    "\n",
    "# Let's cache these datasets for performance\n",
    "training_df = split_60_df.cache()\n",
    "validation_df = split_a_20_df.cache()\n",
    "test_df = split_b_20_df.cache()\n",
    "\n",
    "print('Training: {0}, validation: {1}, test: {2}\\n'.format(\n",
    "  training_df.count(), validation_df.count(), test_df.count())\n",
    ")\n",
    "\n",
    "#pandasDF = trainingRatings_df.toPandas()\n",
    "pandasDF = test_df.toPandas()  #taking more time to execute so given validation data as input\n",
    "reader = Reader(rating_scale=(1, 5))\n",
    "dataset = Dataset.load_from_df(pandasDF,reader)"
   ]
  },
  {
   "cell_type": "markdown",
   "metadata": {},
   "source": [
    "# collaborative filtering approach for user similarities are measured by overlapping Movies"
   ]
  },
  {
   "cell_type": "code",
   "execution_count": 22,
   "metadata": {},
   "outputs": [
    {
     "name": "stdout",
     "output_type": "stream",
     "text": [
      "Computing the pearson similarity matrix...\n",
      "Done computing similarity matrix.\n",
      "Computing the pearson similarity matrix...\n",
      "Done computing similarity matrix.\n",
      "Computing the pearson similarity matrix...\n",
      "Done computing similarity matrix.\n",
      "Computing the pearson similarity matrix...\n",
      "Done computing similarity matrix.\n",
      "Computing the pearson similarity matrix...\n",
      "Done computing similarity matrix.\n",
      "Evaluating MAE of algorithm KNNBasic on 5 split(s).\n",
      "\n",
      "                  Fold 1  Fold 2  Fold 3  Fold 4  Fold 5  Mean    Std     \n",
      "MAE (testset)     0.7983  0.7970  0.7981  0.7957  0.7981  0.7974  0.0010  \n",
      "Fit time          2.72    2.46    2.36    2.36    2.33    2.45    0.14    \n",
      "Test time         6.59    6.66    6.75    7.58    9.04    7.32    0.93    \n"
     ]
    },
    {
     "data": {
      "text/plain": [
       "{'test_mae': array([0.7982669 , 0.796973  , 0.79805255, 0.79566642, 0.7980979 ]),\n",
       " 'fit_time': (2.7228665351867676,\n",
       "  2.45568585395813,\n",
       "  2.3585424423217773,\n",
       "  2.364671230316162,\n",
       "  2.3328356742858887),\n",
       " 'test_time': (6.5862648487091064,\n",
       "  6.659993648529053,\n",
       "  6.7459681034088135,\n",
       "  7.578155279159546,\n",
       "  9.03883671760559)}"
      ]
     },
     "execution_count": 22,
     "metadata": {},
     "output_type": "execute_result"
    }
   ],
   "source": [
    "#Item Based approach\n",
    "sim_options = {\n",
    "    'name': 'pearson',\n",
    "    'user_based': 'False'\n",
    "}\n",
    "\n",
    "clf = KNNBasic(sim_options = sim_options)\n",
    "cross_validate(clf, dataset, measures=['MAE'], cv=5, verbose=True)"
   ]
  },
  {
   "cell_type": "markdown",
   "metadata": {},
   "source": [
    "# collaborative filtering approach for user similarities are measured by overlapping Users"
   ]
  },
  {
   "cell_type": "code",
   "execution_count": 23,
   "metadata": {},
   "outputs": [
    {
     "name": "stdout",
     "output_type": "stream",
     "text": [
      "Computing the msd similarity matrix...\n",
      "Done computing similarity matrix.\n",
      "Computing the msd similarity matrix...\n",
      "Done computing similarity matrix.\n",
      "Computing the msd similarity matrix...\n",
      "Done computing similarity matrix.\n",
      "Computing the msd similarity matrix...\n",
      "Done computing similarity matrix.\n",
      "Computing the msd similarity matrix...\n",
      "Done computing similarity matrix.\n",
      "Evaluating MAE of algorithm KNNBasic on 5 split(s).\n",
      "\n",
      "                  Fold 1  Fold 2  Fold 3  Fold 4  Fold 5  Mean    Std     \n",
      "MAE (testset)     0.7855  0.7888  0.7892  0.7912  0.7870  0.7883  0.0019  \n",
      "Fit time          0.50    0.81    0.81    0.83    0.81    0.75    0.12    \n",
      "Test time         6.82    7.03    6.92    6.81    6.77    6.87    0.10    \n"
     ]
    },
    {
     "data": {
      "text/plain": [
       "{'test_mae': array([0.78552572, 0.78884224, 0.78919732, 0.79117856, 0.78695158]),\n",
       " 'fit_time': (0.5042920112609863,\n",
       "  0.8149957656860352,\n",
       "  0.8086988925933838,\n",
       "  0.8266935348510742,\n",
       "  0.8115105628967285),\n",
       " 'test_time': (6.819427728652954,\n",
       "  7.034637689590454,\n",
       "  6.917973518371582,\n",
       "  6.809990644454956,\n",
       "  6.767271995544434)}"
      ]
     },
     "execution_count": 23,
     "metadata": {},
     "output_type": "execute_result"
    }
   ],
   "source": [
    "#User Based approach\n",
    "sim_options = {\n",
    "    'name': 'MSD',\n",
    "    'user_based': 'True'\n",
    "}\n",
    "\n",
    "clf = KNNBasic(sim_options = sim_options)\n",
    "cross_validate(clf, dataset, measures=['MAE'], cv=5, verbose=True)"
   ]
  },
  {
   "cell_type": "markdown",
   "metadata": {},
   "source": [
    "If we find similar users, then we only have to do the process once for user.\n",
    "From the set of similar users we can estimate all the blanks in the utility matrix for User.\n",
    "\n",
    "If we work from similar items, we have to compute\n",
    "similar items for almost all items, before we can estimate.\n",
    "\n",
    "On the other hand, item-item similarity often provides more reliable information, because of the phenomenon observed above, namely that it is\n",
    "easier to find movies of the same rating than it is to find users that like only movies of a single rating.\n",
    "\n",
    "Whichever method we choose, we should precompute preferred movies for each user, rather than waiting until we need to make a decision. Since the utility matrix evolves slowly, it is generally sufficient to compute it infrequently and assume that it remains fixed between recomputations."
   ]
  },
  {
   "cell_type": "markdown",
   "metadata": {},
   "source": [
    "# Collaborative Filtering Implementation\n",
    "Implementation, Execution and Evaluation"
   ]
  },
  {
   "cell_type": "code",
   "execution_count": 24,
   "metadata": {},
   "outputs": [],
   "source": [
    "from surprise import KNNBasic,KNNBaseline,KNNWithMeans,KNNWithZScore\n",
    "from surprise.model_selection import cross_validate\n",
    "from surprise import Dataset\n",
    "from surprise import Reader"
   ]
  },
  {
   "cell_type": "code",
   "execution_count": 25,
   "metadata": {},
   "outputs": [
    {
     "name": "stdout",
     "output_type": "stream",
     "text": [
      "Estimating biases using als...\n",
      "Computing the msd similarity matrix...\n",
      "Done computing similarity matrix.\n",
      "Estimating biases using als...\n",
      "Computing the msd similarity matrix...\n",
      "Done computing similarity matrix.\n",
      "Estimating biases using als...\n",
      "Computing the msd similarity matrix...\n",
      "Done computing similarity matrix.\n",
      "Estimating biases using als...\n",
      "Computing the msd similarity matrix...\n",
      "Done computing similarity matrix.\n",
      "Estimating biases using als...\n",
      "Computing the msd similarity matrix...\n",
      "Done computing similarity matrix.\n",
      "Computing the msd similarity matrix...\n",
      "Done computing similarity matrix.\n",
      "Computing the msd similarity matrix...\n",
      "Done computing similarity matrix.\n",
      "Computing the msd similarity matrix...\n",
      "Done computing similarity matrix.\n",
      "Computing the msd similarity matrix...\n",
      "Done computing similarity matrix.\n",
      "Computing the msd similarity matrix...\n",
      "Done computing similarity matrix.\n",
      "Computing the msd similarity matrix...\n",
      "Done computing similarity matrix.\n",
      "Computing the msd similarity matrix...\n",
      "Done computing similarity matrix.\n",
      "Computing the msd similarity matrix...\n",
      "Done computing similarity matrix.\n",
      "Computing the msd similarity matrix...\n",
      "Done computing similarity matrix.\n",
      "Computing the msd similarity matrix...\n",
      "Done computing similarity matrix.\n",
      "Computing the msd similarity matrix...\n",
      "Done computing similarity matrix.\n",
      "Computing the msd similarity matrix...\n",
      "Done computing similarity matrix.\n",
      "Computing the msd similarity matrix...\n",
      "Done computing similarity matrix.\n",
      "Computing the msd similarity matrix...\n",
      "Done computing similarity matrix.\n",
      "Computing the msd similarity matrix...\n",
      "Done computing similarity matrix.\n"
     ]
    },
    {
     "data": {
      "text/html": [
       "<div>\n",
       "<style scoped>\n",
       "    .dataframe tbody tr th:only-of-type {\n",
       "        vertical-align: middle;\n",
       "    }\n",
       "\n",
       "    .dataframe tbody tr th {\n",
       "        vertical-align: top;\n",
       "    }\n",
       "\n",
       "    .dataframe thead th {\n",
       "        text-align: right;\n",
       "    }\n",
       "</style>\n",
       "<table border=\"1\" class=\"dataframe\">\n",
       "  <thead>\n",
       "    <tr style=\"text-align: right;\">\n",
       "      <th></th>\n",
       "      <th>test_rmse</th>\n",
       "      <th>fit_time</th>\n",
       "      <th>test_time</th>\n",
       "    </tr>\n",
       "    <tr>\n",
       "      <th>Algorithm</th>\n",
       "      <th></th>\n",
       "      <th></th>\n",
       "      <th></th>\n",
       "    </tr>\n",
       "  </thead>\n",
       "  <tbody>\n",
       "    <tr>\n",
       "      <th>KNNBaseline</th>\n",
       "      <td>0.921654</td>\n",
       "      <td>3.508207</td>\n",
       "      <td>10.072906</td>\n",
       "    </tr>\n",
       "    <tr>\n",
       "      <th>KNNWithMeans</th>\n",
       "      <td>0.923255</td>\n",
       "      <td>0.951716</td>\n",
       "      <td>7.636521</td>\n",
       "    </tr>\n",
       "    <tr>\n",
       "      <th>KNNWithZScore</th>\n",
       "      <td>0.924319</td>\n",
       "      <td>1.566507</td>\n",
       "      <td>9.154764</td>\n",
       "    </tr>\n",
       "    <tr>\n",
       "      <th>KNNBasic</th>\n",
       "      <td>0.992983</td>\n",
       "      <td>0.763807</td>\n",
       "      <td>7.456145</td>\n",
       "    </tr>\n",
       "  </tbody>\n",
       "</table>\n",
       "</div>"
      ],
      "text/plain": [
       "               test_rmse  fit_time  test_time\n",
       "Algorithm                                    \n",
       "KNNBaseline     0.921654  3.508207  10.072906\n",
       "KNNWithMeans    0.923255  0.951716   7.636521\n",
       "KNNWithZScore   0.924319  1.566507   9.154764\n",
       "KNNBasic        0.992983  0.763807   7.456145"
      ]
     },
     "execution_count": 25,
     "metadata": {},
     "output_type": "execute_result"
    }
   ],
   "source": [
    "\"\"\"\n",
    "#taking more time to execute for Training Dataset so given splitted validation data as input\n",
    "seed = 1800009193\n",
    "(split_60_df, split_a_20_df, split_b_20_df) = trainingRatings_df.randomSplit([6.0, 2.0, 2.0], seed)\n",
    "\n",
    "# Let's cache these datasets for performance\n",
    "training_df = split_60_df.cache()\n",
    "validation_df = split_a_20_df.cache()\n",
    "test_df = split_b_20_df.cache()\n",
    "\n",
    "print('Training: {0}, validation: {1}, test: {2}\\n'.format(\n",
    "  training_df.count(), validation_df.count(), test_df.count())\n",
    ")\n",
    "\n",
    "#pandasDF = trainingRatings_df.toPandas()\n",
    "pandasDF = validation_df.toPandas()  #taking more time to execute so given validation data as input\n",
    "reader = Reader(rating_scale=(1, 5))\n",
    "dataset = Dataset.load_from_df(pandasDF,reader)\n",
    "\"\"\"\n",
    "benchmark = []\n",
    "# Iterate over all algorithms\n",
    "for algorithm in [KNNBaseline(), KNNBasic(), KNNWithMeans(), KNNWithZScore()]:\n",
    "    # Perform cross validation\n",
    "    results = cross_validate(algorithm, dataset, measures=['RMSE'], cv=5, verbose=False)\n",
    "    \n",
    "    # Get results & append algorithm name\n",
    "    tmp = pd.DataFrame.from_dict(results).mean(axis=0)\n",
    "    tmp = tmp.append(pd.Series([str(algorithm).split(' ')[0].split('.')[-1]], index=['Algorithm']))\n",
    "    benchmark.append(tmp)\n",
    "    \n",
    "pd.DataFrame(benchmark).set_index('Algorithm').sort_values('test_rmse')"
   ]
  },
  {
   "cell_type": "markdown",
   "metadata": {},
   "source": [
    "# Collaborative Filtering Implementation - Using ALS\n",
    "Implementation, Execution and Evaluation"
   ]
  },
  {
   "cell_type": "code",
   "execution_count": 26,
   "metadata": {},
   "outputs": [
    {
     "name": "stdout",
     "output_type": "stream",
     "text": [
      "Rank: 4\n",
      "predicted_ratings_df\n",
      "+-------+-------+------+----------+\n",
      "|movieId|userId |rating|prediction|\n",
      "+-------+-------+------+----------+\n",
      "|28     |2358799|3.0   |3.7095532 |\n",
      "|156    |973051 |5.0   |3.9771814 |\n",
      "|851    |1189060|3.0   |3.5735748 |\n",
      "+-------+-------+------+----------+\n",
      "only showing top 3 rows\n",
      "\n",
      "For rank 4 the RMSE is 0.8731654052865816\n",
      "For rank 4 the MSE is 0.8731654052865818\n",
      "Rank: 8\n",
      "predicted_ratings_df\n",
      "+-------+-------+------+----------+\n",
      "|movieId|userId |rating|prediction|\n",
      "+-------+-------+------+----------+\n",
      "|28     |2358799|3.0   |3.7235537 |\n",
      "|156    |973051 |5.0   |3.962813  |\n",
      "|851    |1189060|3.0   |3.6388474 |\n",
      "+-------+-------+------+----------+\n",
      "only showing top 3 rows\n",
      "\n",
      "For rank 8 the RMSE is 0.8616004838570359\n",
      "For rank 8 the MSE is 0.8616004838570359\n",
      "Rank: 12\n",
      "predicted_ratings_df\n",
      "+-------+-------+------+----------+\n",
      "|movieId|userId |rating|prediction|\n",
      "+-------+-------+------+----------+\n",
      "|28     |2358799|3.0   |3.6669366 |\n",
      "|156    |973051 |5.0   |3.9271145 |\n",
      "|851    |1189060|3.0   |3.5178668 |\n",
      "+-------+-------+------+----------+\n",
      "only showing top 3 rows\n",
      "\n",
      "For rank 12 the RMSE is 0.8681582347312297\n",
      "For rank 12 the MSE is 0.8681582347312297\n",
      "\n",
      "The best model was trained with rank 8 with respect to RMSE\n",
      "The best model was trained with rank 8 with respect to MSE\n"
     ]
    }
   ],
   "source": [
    "# TODO: Replace <FILL IN> with appropriate code\n",
    "# This step is broken in ML Pipelines: https://issues.apache.org/jira/browse/SPARK-14489\n",
    "from pyspark.ml.recommendation import ALS\n",
    "\n",
    "# Let's initialize our ALS learner\n",
    "als = ALS()\n",
    "seed = 1800009193\n",
    "# Now we set the parameters for the method\n",
    "(als.setMaxIter(5)\n",
    "   .setSeed(seed)\n",
    "   .setRegParam(0.1)\n",
    "   .setItemCol(\"movieId\")\n",
    "   .setUserCol(\"userId\")\n",
    "   .setRatingCol(\"rating\"))\n",
    "\n",
    "# Now let's compute an evaluation metric for our test dataset\n",
    "from pyspark.ml.evaluation import RegressionEvaluator\n",
    "\n",
    "# Create an RMSE evaluator using the label and predicted columns\n",
    "reg_eval = RegressionEvaluator(predictionCol=\"prediction\", labelCol=\"rating\", metricName=\"rmse\")\n",
    "\n",
    "# Create an MSE evaluator using the label and predicted columns\n",
    "reg_mse_eval = RegressionEvaluator(predictionCol=\"prediction\", labelCol=\"rating\", metricName=\"mse\")\n",
    "\n",
    "tolerance = 0.03\n",
    "ranks = [4, 8, 12]\n",
    "errors = [0, 0, 0]\n",
    "models = [0, 0, 0]\n",
    "err = 0\n",
    "min_error = float('inf')\n",
    "best_rank = -1\n",
    "\n",
    "merrors = [0, 0, 0]\n",
    "mmodels = [0, 0, 0]\n",
    "merr = 0\n",
    "mmin_error = float('inf')\n",
    "mbest_rank = -1\n",
    "\n",
    "for rank in ranks:\n",
    "  # Set the rank here:\n",
    "  als.setRank(rank)\n",
    "    \n",
    "  # Create the model with these parameters.\n",
    "  model = als.fit(trainingRatings_df)\n",
    "    \n",
    "  # Run the model to create a prediction. Predict against the validation_df.\n",
    "  predict_df = model.transform(testingRatings_df)\n",
    "  print(\"Rank:\",rank)\n",
    "\n",
    "  # Remove NaN values from prediction (due to SPARK-14489)\n",
    "  predicted_ratings_df = predict_df.filter(predict_df.prediction != float('nan'))\n",
    "  print(\"predicted_ratings_df\")  \n",
    "  predicted_ratings_df.show(3, truncate=False)\n",
    "\n",
    "  # Run the previously created RMSE evaluator, reg_eval, on the predicted_ratings_df DataFrame\n",
    "  error = reg_eval.evaluate(predicted_ratings_df)\n",
    "  errors[err] = error\n",
    "  models[err] = model\n",
    "  print('For rank %s the RMSE is %s' % (rank, error))\n",
    "  if error < min_error:\n",
    "    min_error = error\n",
    "    best_rank = err\n",
    "  err += 1\n",
    "\n",
    "  # Run the previously created RMSE evaluator, reg_eval, on the predicted_ratings_df DataFrame\n",
    "  merror = reg_eval.evaluate(predicted_ratings_df)\n",
    "  merrors[merr] = merror\n",
    "  models[merr] = model\n",
    "  print('For rank %s the MSE is %s' % (rank, merror))\n",
    "  if merror < mmin_error:\n",
    "    mmin_error = merror\n",
    "    mbest_rank = merr\n",
    "  merr += 1\n",
    "\n",
    "als.setRank(ranks[best_rank])\n",
    "print ('\\nThe best model was trained with rank %s with respect to RMSE' % ranks[best_rank])\n",
    "my_model = models[best_rank]\n",
    "\n",
    "als.setRank(ranks[best_rank])\n",
    "print ('The best model was trained with rank %s with respect to MSE' % ranks[mbest_rank])\n",
    "my_model = models[mbest_rank]"
   ]
  },
  {
   "cell_type": "code",
   "execution_count": 27,
   "metadata": {},
   "outputs": [
    {
     "name": "stdout",
     "output_type": "stream",
     "text": [
      "The model had a RMSE on the test set of 0.833000416463466\n"
     ]
    }
   ],
   "source": [
    "predict_df = my_model.transform(test_df)\n",
    "predicted_test_df = predict_df.filter(predict_df.prediction != float('nan'))\n",
    "test_RMSE = reg_eval.evaluate(predicted_test_df)\n",
    "print('The model had a RMSE on the test set of {0}'.format(test_RMSE))"
   ]
  },
  {
   "cell_type": "code",
   "execution_count": 28,
   "metadata": {},
   "outputs": [
    {
     "name": "stdout",
     "output_type": "stream",
     "text": [
      "My movie ratings:\n"
     ]
    },
    {
     "data": {
      "text/plain": [
       "DataFrame[movieId: bigint, userId: bigint, rating: bigint]"
      ]
     },
     "metadata": {},
     "output_type": "display_data"
    },
    {
     "name": "stdout",
     "output_type": "stream",
     "text": [
      "+-------+------+------+\n",
      "|movieId|userId|rating|\n",
      "+-------+------+------+\n",
      "|240    |0     |5     |\n",
      "|290    |0     |5     |\n",
      "|890    |0     |5     |\n",
      "|100    |0     |5     |\n",
      "|100    |0     |5     |\n",
      "|523    |0     |5     |\n",
      "|219    |0     |5     |\n",
      "|229    |0     |5     |\n",
      "|209    |0     |5     |\n",
      "|320    |0     |2     |\n",
      "+-------+------+------+\n",
      "\n"
     ]
    }
   ],
   "source": [
    "from pyspark.sql import Row\n",
    "my_user_id = 0\n",
    "\n",
    "# Note that the movie IDs are the *last* number on each line. A common error was to use the number of ratings as the movie ID.\n",
    "my_rated_movies = [\n",
    "          (240,my_user_id,5),\n",
    "     (290,my_user_id,5),\n",
    "     (890,my_user_id,5),\n",
    "     (100,my_user_id,5),\n",
    "     (100,my_user_id,5),\n",
    "     (523,my_user_id,5),\n",
    "     (219,my_user_id,5),\n",
    "     (229,my_user_id,5),\n",
    "     (209,my_user_id,5),\n",
    "     (320,my_user_id,2)\n",
    "     # The format of each line is (my_user_id, movie ID, your rating)\n",
    "     # For example, to give the movie \"Star Wars: Episode IV - A New Hope (1977)\" a five rating, you would add the following line:\n",
    "     #   (my_user_id, 260, 5),\n",
    "]\n",
    "\n",
    "my_ratings_df = sqlContext.createDataFrame(my_rated_movies, ['movieId','userId','rating'])\n",
    "print ('My movie ratings:')\n",
    "display(my_ratings_df.limit(10))\n",
    "my_ratings_df.show(10, truncate=False)"
   ]
  },
  {
   "cell_type": "markdown",
   "metadata": {},
   "source": [
    "Yes,I agree with the predictions of my system."
   ]
  }
 ],
 "metadata": {
  "kernelspec": {
   "display_name": "Python 3 (ipykernel)",
   "language": "python",
   "name": "python3"
  },
  "language_info": {
   "codemirror_mode": {
    "name": "ipython",
    "version": 3
   },
   "file_extension": ".py",
   "mimetype": "text/x-python",
   "name": "python",
   "nbconvert_exporter": "python",
   "pygments_lexer": "ipython3",
   "version": "3.7.10"
  }
 },
 "nbformat": 4,
 "nbformat_minor": 4
}
